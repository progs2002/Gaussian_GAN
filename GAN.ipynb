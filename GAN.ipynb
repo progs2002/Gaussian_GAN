{
 "cells": [
  {
   "cell_type": "code",
   "execution_count": 1,
   "id": "ef534e5c",
   "metadata": {},
   "outputs": [],
   "source": [
    "import torch \n",
    "import numpy as np\n",
    "import matplotlib.pyplot as plt \n",
    "import random"
   ]
  },
  {
   "cell_type": "code",
   "execution_count": 2,
   "id": "22fd920d",
   "metadata": {},
   "outputs": [],
   "source": [
    "def gauss(x, mean, var):\n",
    "    return np.exp(-0.5 * np.power(x - mean, 2)/var)/np.sqrt(var * 2 * np.pi) "
   ]
  },
  {
   "cell_type": "markdown",
   "id": "aa51250f",
   "metadata": {},
   "source": [
    "## Generate Data"
   ]
  },
  {
   "cell_type": "code",
   "execution_count": 3,
   "id": "91cc229d",
   "metadata": {},
   "outputs": [],
   "source": [
    "m = 120000\n",
    "mu = 0\n",
    "var = 1.0\n",
    "sd = np.sqrt(var)\n",
    "p_data = np.random.default_rng().normal(mu, sd, size=m)"
   ]
  },
  {
   "cell_type": "code",
   "execution_count": 4,
   "id": "bafa1052",
   "metadata": {},
   "outputs": [
    {
     "data": {
      "text/plain": [
       "(120000,)"
      ]
     },
     "execution_count": 4,
     "metadata": {},
     "output_type": "execute_result"
    }
   ],
   "source": [
    "p_data.shape"
   ]
  },
  {
   "cell_type": "code",
   "execution_count": 5,
   "id": "e1ca2c7a",
   "metadata": {},
   "outputs": [
    {
     "data": {
      "text/plain": [
       "<matplotlib.legend.Legend at 0x7f1a20300460>"
      ]
     },
     "execution_count": 5,
     "metadata": {},
     "output_type": "execute_result"
    },
    {
     "data": {
      "image/png": "[encoded data removed]",
      "text/plain": [
       "<Figure size 576x576 with 1 Axes>"
      ]
     },
     "metadata": {
      "needs_background": "light"
     },
     "output_type": "display_data"
    }
   ],
   "source": [
    "np.random.shuffle(p_data)\n",
    "batch_size = 40\n",
    "plt.figure(figsize=(8,8))\n",
    "plt.scatter(p_data[0:batch_size], np.zeros(batch_size), c='red', marker=\"x\", label=\"real_data\")\n",
    "x = np.arange(-4,4,0.1)\n",
    "plt.plot(x, gauss(x, mu, var), label=\"target_distribution\")\n",
    "plt.legend(prop={'size':14})"
   ]
  },
  {
   "cell_type": "code",
   "execution_count": 6,
   "id": "db0bbfb5",
   "metadata": {},
   "outputs": [],
   "source": [
    "import torch.nn as nn\n",
    "import torch.utils.data as data\n",
    "import torch.nn.functional as F\n",
    "import torch.optim as optim"
   ]
  },
  {
   "cell_type": "code",
   "execution_count": 7,
   "id": "3b82909e",
   "metadata": {},
   "outputs": [],
   "source": [
    "#Settings \n",
    "\n",
    "M = 64\n",
    "DEVICE = \"cpu\"\n",
    "LR = 0.01\n",
    "EPOCHS = 20"
   ]
  },
  {
   "cell_type": "code",
   "execution_count": 8,
   "id": "34cd103a",
   "metadata": {},
   "outputs": [],
   "source": [
    "pdata_x = torch.tensor(p_data,dtype=torch.float, device=DEVICE)"
   ]
  },
  {
   "cell_type": "code",
   "execution_count": 9,
   "id": "04138c23",
   "metadata": {},
   "outputs": [],
   "source": [
    "pdata_y = torch.ones_like(pdata_x, device=DEVICE)"
   ]
  },
  {
   "cell_type": "code",
   "execution_count": 10,
   "id": "78f39567",
   "metadata": {},
   "outputs": [],
   "source": [
    "dataset = data.TensorDataset(pdata_x, pdata_y)\n",
    "dataloader = data.DataLoader(dataset, batch_size=M, shuffle=False)"
   ]
  },
  {
   "cell_type": "code",
   "execution_count": 11,
   "id": "e119e202",
   "metadata": {},
   "outputs": [],
   "source": [
    "class Generator(nn.Module):\n",
    "    def __init__(self):\n",
    "        super().__init__()\n",
    "        self.fc1 = nn.Linear(1,11)\n",
    "        self.fc2 = nn.Linear(11,1)\n",
    "    def forward(self, x):\n",
    "        x = F.relu(self.fc1(x))\n",
    "        x = F.relu(self.fc2(x))\n",
    "        return x"
   ]
  },
  {
   "cell_type": "code",
   "execution_count": 12,
   "id": "6fde3281",
   "metadata": {},
   "outputs": [],
   "source": [
    "class Discriminator(nn.Module):\n",
    "    def __init__(self):\n",
    "        super().__init__()\n",
    "        self.fc1 = nn.Linear(1,11)\n",
    "        self.fc2 = nn.Linear(11,1)\n",
    "    def forward(self, x):\n",
    "        x = F.relu(self.fc1(x))\n",
    "        x = torch.sigmoid(self.fc2(x))\n",
    "        return x"
   ]
  },
  {
   "cell_type": "code",
   "execution_count": 13,
   "id": "04048e74",
   "metadata": {},
   "outputs": [],
   "source": [
    "G = Generator().to(DEVICE)\n",
    "D = Discriminator().to(DEVICE)"
   ]
  },
  {
   "cell_type": "code",
   "execution_count": 14,
   "id": "7433effd",
   "metadata": {},
   "outputs": [],
   "source": [
    "optimG = optim.SGD(G.parameters(), lr=LR)\n",
    "optimD = optim.SGD(D.parameters(), lr=LR)"
   ]
  },
  {
   "cell_type": "code",
   "execution_count": 15,
   "id": "dce3b03a",
   "metadata": {},
   "outputs": [],
   "source": [
    "G_losses, D_losses = [], []"
   ]
  },
  {
   "cell_type": "code",
   "execution_count": 16,
   "id": "3d77c7c5",
   "metadata": {},
   "outputs": [
    {
     "data": {
      "text/plain": [
       "tensor([1.5536], grad_fn=<ReluBackward0>)"
      ]
     },
     "execution_count": 16,
     "metadata": {},
     "output_type": "execute_result"
    }
   ],
   "source": [
    "G(torch.tensor([4.0]))"
   ]
  },
  {
   "cell_type": "code",
   "execution_count": 17,
   "id": "cbcf160b",
   "metadata": {},
   "outputs": [
    {
     "data": {
      "text/plain": [
       "tensor([0.2331], grad_fn=<SigmoidBackward0>)"
      ]
     },
     "execution_count": 17,
     "metadata": {},
     "output_type": "execute_result"
    }
   ],
   "source": [
    "D(torch.tensor([2.0]))"
   ]
  },
  {
   "cell_type": "code",
   "execution_count": 18,
   "id": "4af13f51",
   "metadata": {},
   "outputs": [],
   "source": [
    "loss_fn = nn.BCELoss()"
   ]
  },
  {
   "cell_type": "code",
   "execution_count": 19,
   "id": "fe198337",
   "metadata": {},
   "outputs": [],
   "source": [
    "fake_label = torch.zeros(M,dtype=torch.float)\n",
    "real_label = torch.ones(M,dtype=torch.float)"
   ]
  },
  {
   "cell_type": "code",
   "execution_count": 20,
   "id": "9d00495a",
   "metadata": {},
   "outputs": [],
   "source": [
    "G_losses, D_losses = [], []"
   ]
  },
  {
   "cell_type": "code",
   "execution_count": 21,
   "id": "b30806d6",
   "metadata": {},
   "outputs": [],
   "source": [
    "for epoch in range(EPOCHS):\n",
    "    for batch, (X, _) in enumerate(dataloader):\n",
    "        \n",
    "        D.zero_grad()\n",
    "        \n",
    "        output = D(X.unsqueeze(dim=1))\n",
    "        errD_real = loss_fn(output.squeeze(), real_label)\n",
    "        errD_real.backward()\n",
    "        \n",
    "        z = np.random.random(M)\n",
    "        z = torch.tensor(z, dtype=torch.float)\n",
    "        fake = G(z.unsqueeze(dim=1))\n",
    "        \n",
    "        output = D(fake.detach())\n",
    "        \n",
    "        errD_fake = loss_fn(output.squeeze(), fake_label)\n",
    "        \n",
    "        errD_fake.backward()\n",
    "        \n",
    "        \n",
    "        errD = errD_fake + errD_real\n",
    "        \n",
    "        optimD.step()\n",
    "        \n",
    "        G.zero_grad()\n",
    "        output = D(fake)\n",
    "        errG = loss_fn(output.squeeze(), real_label)\n",
    "        errG.backward()\n",
    "        optimG.step()    \n",
    "        \n",
    "        G_losses.append(errG.item())\n",
    "        D_losses.append(errD.item())"
   ]
  },
  {
   "cell_type": "code",
   "execution_count": 22,
   "id": "c3a079ae",
   "metadata": {},
   "outputs": [
    {
     "data": {
      "text/plain": [
       "tensor(0.9545, grad_fn=<MeanBackward0>)"
      ]
     },
     "execution_count": 22,
     "metadata": {},
     "output_type": "execute_result"
    }
   ],
   "source": [
    "D(pdata_x.unsqueeze(dim=1)).mean()"
   ]
  },
  {
   "cell_type": "code",
   "execution_count": 23,
   "id": "47b720d4",
   "metadata": {},
   "outputs": [
    {
     "data": {
      "image/png": "[encoded data removed]",
      "text/plain": [
       "<Figure size 720x360 with 1 Axes>"
      ]
     },
     "metadata": {
      "needs_background": "light"
     },
     "output_type": "display_data"
    }
   ],
   "source": [
    "plt.figure(figsize=(10,5))\n",
    "plt.title(\"Generator and Discriminator Loss During Training\")\n",
    "plt.plot(G_losses,label=\"G\")\n",
    "plt.plot(D_losses,label=\"D\")\n",
    "plt.xlabel(\"iterations\")\n",
    "plt.ylabel(\"Loss\")\n",
    "plt.legend()\n",
    "plt.show()"
   ]
  },
  {
   "cell_type": "code",
   "execution_count": 24,
   "id": "4ba60b21",
   "metadata": {},
   "outputs": [
    {
     "name": "stdout",
     "output_type": "stream",
     "text": [
      "[0.21463213 0.26526246 0.1774354  ... 0.18883296 0.65420627 0.99247905]\n"
     ]
    },
    {
     "data": {
      "text/plain": [
       "(array([    0.,     0.,     0.,     0.,     0., 16384.,     0.,     0.,\n",
       "            0.,     0.]),\n",
       " array([-0.5, -0.4, -0.3, -0.2, -0.1,  0. ,  0.1,  0.2,  0.3,  0.4,  0.5],\n",
       "       dtype=float32),\n",
       " <BarContainer object of 10 artists>)"
      ]
     },
     "execution_count": 24,
     "metadata": {},
     "output_type": "execute_result"
    },
    {
     "data": {
      "image/png": "[encoded data removed]",
      "text/plain": [
       "<Figure size 432x288 with 1 Axes>"
      ]
     },
     "metadata": {
      "needs_background": "light"
     },
     "output_type": "display_data"
    }
   ],
   "source": [
    "Z = np.array([random.random() for x in range (16384)])\n",
    "print(Z)\n",
    "samples = G(torch.tensor(Z, dtype=torch.float).unsqueeze(dim=1)).flatten()\n",
    "plt.hist(samples.detach())"
   ]
  }
 ],
 "metadata": {
  "kernelspec": {
   "display_name": "Python 3 (ipykernel)",
   "language": "python",
   "name": "python3"
  },
  "language_info": {
   "codemirror_mode": {
    "name": "ipython",
    "version": 3
   },
   "file_extension": ".py",
   "mimetype": "text/x-python",
   "name": "python",
   "nbconvert_exporter": "python",
   "pygments_lexer": "ipython3",
   "version": "3.10.5"
  },
  "vscode": {
   "interpreter": {
    "hash": "e7370f93d1d0cde622a1f8e1c04877d8463912d04d973331ad4851f04de6915a"
   }
  }
 },
 "nbformat": 4,
 "nbformat_minor": 5
}
